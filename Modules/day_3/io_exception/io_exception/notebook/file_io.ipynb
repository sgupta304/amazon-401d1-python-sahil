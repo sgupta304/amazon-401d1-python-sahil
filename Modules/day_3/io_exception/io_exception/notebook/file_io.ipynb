{
 "cells": [
  {
   "cell_type": "markdown",
   "metadata": {},
   "source": [
    "# Files in Python"
   ]
  },
  {
   "cell_type": "code",
   "execution_count": null,
   "metadata": {},
   "outputs": [],
   "source": [
    "file = open('assets/spam.txt')\n",
    "print(file)"
   ]
  },
  {
   "cell_type": "code",
   "execution_count": null,
   "metadata": {},
   "outputs": [],
   "source": [
    "contents = file.read()\n",
    "contents"
   ]
  },
  {
   "cell_type": "code",
   "execution_count": null,
   "metadata": {},
   "outputs": [],
   "source": [
    "print(contents)"
   ]
  },
  {
   "cell_type": "markdown",
   "metadata": {},
   "source": [
    "## Closing the file"
   ]
  },
  {
   "cell_type": "code",
   "execution_count": null,
   "metadata": {},
   "outputs": [],
   "source": [
    "# The file is still \"open\"\n",
    "print('Is file closed?', file.closed)"
   ]
  },
  {
   "cell_type": "code",
   "execution_count": null,
   "metadata": {},
   "outputs": [],
   "source": [
    "# let's explicitly close it\n",
    "file.close()\n",
    "print('Is file closed?', file.closed)"
   ]
  },
  {
   "cell_type": "markdown",
   "metadata": {},
   "source": [
    "- often you don't need to worry about closing the file since Python usually handles that.\n",
    "- but words like 'often' and 'usually' are a programmers constant foe\n",
    "- fortunately, there's an easy way to make sure that it always gets closed up properly\n"
   ]
  },
  {
   "cell_type": "code",
   "execution_count": null,
   "metadata": {},
   "outputs": [],
   "source": [
    "with open('assets/spam.txt') as file:\n",
    "    print(file.read())\n",
    "\n",
    "print('file is closed?', file.closed)"
   ]
  },
  {
   "cell_type": "markdown",
   "metadata": {},
   "source": [
    "- That `with` key word there creates something called a `context manager`\n",
    "- They are a more advanced topic, but you'll see them used a lot with files because they are so dang handy"
   ]
  },
  {
   "cell_type": "markdown",
   "metadata": {},
   "source": [
    "## Quick documentation with `help` and `dir`\n",
    "- You can see the attributes of file object easy enough"
   ]
  },
  {
   "cell_type": "code",
   "execution_count": 25,
   "metadata": {},
   "outputs": [
    {
     "output_type": "stream",
     "name": "stdout",
     "text": "Help on TextIOWrapper object:\n\nclass TextIOWrapper(_TextIOBase)\n |  TextIOWrapper(buffer, encoding=None, errors=None, newline=None, line_buffering=False, write_through=False)\n |  \n |  Character and line based layer over a BufferedIOBase object, buffer.\n |  \n |  encoding gives the name of the encoding that the stream will be\n |  decoded or encoded with. It defaults to locale.getpreferredencoding(False).\n |  \n |  errors determines the strictness of encoding and decoding (see\n |  help(codecs.Codec) or the documentation for codecs.register) and\n |  defaults to \"strict\".\n |  \n |  newline controls how line endings are handled. It can be None, '',\n |  '\\n', '\\r', and '\\r\\n'.  It works as follows:\n |  \n |  * On input, if newline is None, universal newlines mode is\n |    enabled. Lines in the input can end in '\\n', '\\r', or '\\r\\n', and\n |    these are translated into '\\n' before being returned to the\n |    caller. If it is '', universal newline mode is enabled, but line\n |    endings are returned to the caller untranslated. If it has any of\n |    the other legal values, input lines are only terminated by the given\n |    string, and the line ending is returned to the caller untranslated.\n |  \n |  * On output, if newline is None, any '\\n' characters written are\n |    translated to the system default line separator, os.linesep. If\n |    newline is '' or '\\n', no translation takes place. If newline is any\n |    of the other legal values, any '\\n' characters written are translated\n |    to the given string.\n |  \n |  If line_buffering is True, a call to flush is implied when a call to\n |  write contains a newline character.\n |  \n |  Method resolution order:\n |      TextIOWrapper\n |      _TextIOBase\n |      _IOBase\n |      builtins.object\n |  \n |  Methods defined here:\n |  \n |  __init__(self, /, *args, **kwargs)\n |      Initialize self.  See help(type(self)) for accurate signature.\n |  \n |  __next__(self, /)\n |      Implement next(self).\n |  \n |  __repr__(self, /)\n |      Return repr(self).\n |  \n |  close(self, /)\n |      Flush and close the IO object.\n |      \n |      This method has no effect if the file is already closed.\n |  \n |  detach(self, /)\n |      Separate the underlying buffer from the TextIOBase and return it.\n |      \n |      After the underlying buffer has been detached, the TextIO is in an\n |      unusable state.\n |  \n |  fileno(self, /)\n |      Returns underlying file descriptor if one exists.\n |      \n |      OSError is raised if the IO object does not use a file descriptor.\n |  \n |  flush(self, /)\n |      Flush write buffers, if applicable.\n |      \n |      This is not implemented for read-only and non-blocking streams.\n |  \n |  isatty(self, /)\n |      Return whether this is an 'interactive' stream.\n |      \n |      Return False if it can't be determined.\n |  \n |  read(self, size=-1, /)\n |      Read at most n characters from stream.\n |      \n |      Read from underlying buffer until we have n characters or we hit EOF.\n |      If n is negative or omitted, read until EOF.\n |  \n |  readable(self, /)\n |      Return whether object was opened for reading.\n |      \n |      If False, read() will raise OSError.\n |  \n |  readline(self, size=-1, /)\n |      Read until newline or EOF.\n |      \n |      Returns an empty string if EOF is hit immediately.\n |  \n |  reconfigure(self, /, *, encoding=None, errors=None, newline=None, line_buffering=None, write_through=None)\n |      Reconfigure the text stream with new parameters.\n |      \n |      This also does an implicit stream flush.\n |  \n |  seek(self, cookie, whence=0, /)\n |      Change stream position.\n |      \n |      Change the stream position to the given byte offset. The offset is\n |      interpreted relative to the position indicated by whence.  Values\n |      for whence are:\n |      \n |      * 0 -- start of stream (the default); offset should be zero or positive\n |      * 1 -- current stream position; offset may be negative\n |      * 2 -- end of stream; offset is usually negative\n |      \n |      Return the new absolute position.\n |  \n |  seekable(self, /)\n |      Return whether object supports random access.\n |      \n |      If False, seek(), tell() and truncate() will raise OSError.\n |      This method may need to do a test seek().\n |  \n |  tell(self, /)\n |      Return current stream position.\n |  \n |  truncate(self, pos=None, /)\n |      Truncate file to size bytes.\n |      \n |      File pointer is left unchanged.  Size defaults to the current IO\n |      position as reported by tell().  Returns the new size.\n |  \n |  writable(self, /)\n |      Return whether object was opened for writing.\n |      \n |      If False, write() will raise OSError.\n |  \n |  write(self, text, /)\n |      Write string to stream.\n |      Returns the number of characters written (which is always equal to\n |      the length of the string).\n |  \n |  ----------------------------------------------------------------------\n |  Static methods defined here:\n |  \n |  __new__(*args, **kwargs) from builtins.type\n |      Create and return a new object.  See help(type) for accurate signature.\n |  \n |  ----------------------------------------------------------------------\n |  Data descriptors defined here:\n |  \n |  buffer\n |  \n |  closed\n |  \n |  encoding\n |      Encoding of the text stream.\n |      \n |      Subclasses should override.\n |  \n |  errors\n |      The error setting of the decoder or encoder.\n |      \n |      Subclasses should override.\n |  \n |  line_buffering\n |  \n |  name\n |  \n |  newlines\n |      Line endings translated so far.\n |      \n |      Only line endings translated during reading are considered.\n |      \n |      Subclasses should override.\n |  \n |  write_through\n |  \n |  ----------------------------------------------------------------------\n |  Methods inherited from _IOBase:\n |  \n |  __del__(...)\n |  \n |  __enter__(...)\n |  \n |  __exit__(...)\n |  \n |  __iter__(self, /)\n |      Implement iter(self).\n |  \n |  readlines(self, hint=-1, /)\n |      Return a list of lines from the stream.\n |      \n |      hint can be specified to control the number of lines read: no more\n |      lines will be read if the total size (in bytes/characters) of all\n |      lines so far exceeds hint.\n |  \n |  writelines(self, lines, /)\n |      Write a list of lines to stream.\n |      \n |      Line separators are not added, so it is usual for each of the\n |      lines provided to have a line separator at the end.\n |  \n |  ----------------------------------------------------------------------\n |  Data descriptors inherited from _IOBase:\n |  \n |  __dict__\n\n"
    }
   ],
   "source": [
    "help(file)"
   ]
  },
  {
   "cell_type": "code",
   "execution_count": null,
   "metadata": {},
   "outputs": [],
   "source": [
    "dir(file)"
   ]
  },
  {
   "cell_type": "markdown",
   "metadata": {},
   "source": [
    "## File modes\n",
    "\n",
    "- When you open a file you supply a 'mode' - the default mode is 'r' for 'read'\n",
    "- so `open('somefile.txt')` is the same as `open('somefile.txt','r')`\n",
    "- You pretty much have to memorize the modes\n",
    "- Luckilly there aren't that many. Here are the most popular\n",
    "    - r for read\n",
    "    - w for write\n",
    "    - a for append"
   ]
  },
  {
   "cell_type": "code",
   "execution_count": 26,
   "metadata": {},
   "outputs": [
    {
     "output_type": "stream",
     "name": "stdout",
     "text": "Help on built-in function open in module io:\n\nopen(file, mode='r', buffering=-1, encoding=None, errors=None, newline=None, closefd=True, opener=None)\n    Open file and return a stream.  Raise OSError upon failure.\n    \n    file is either a text or byte string giving the name (and the path\n    if the file isn't in the current working directory) of the file to\n    be opened or an integer file descriptor of the file to be\n    wrapped. (If a file descriptor is given, it is closed when the\n    returned I/O object is closed, unless closefd is set to False.)\n    \n    mode is an optional string that specifies the mode in which the file\n    is opened. It defaults to 'r' which means open for reading in text\n    mode.  Other common values are 'w' for writing (truncating the file if\n    it already exists), 'x' for creating and writing to a new file, and\n    'a' for appending (which on some Unix systems, means that all writes\n    append to the end of the file regardless of the current seek position).\n    In text mode, if encoding is not specified the encoding used is platform\n    dependent: locale.getpreferredencoding(False) is called to get the\n    current locale encoding. (For reading and writing raw bytes use binary\n    mode and leave encoding unspecified.) The available modes are:\n    \n    ========= ===============================================================\n    Character Meaning\n    --------- ---------------------------------------------------------------\n    'r'       open for reading (default)\n    'w'       open for writing, truncating the file first\n    'x'       create a new file and open it for writing\n    'a'       open for writing, appending to the end of the file if it exists\n    'b'       binary mode\n    't'       text mode (default)\n    '+'       open a disk file for updating (reading and writing)\n    'U'       universal newline mode (deprecated)\n    ========= ===============================================================\n    \n    The default mode is 'rt' (open for reading text). For binary random\n    access, the mode 'w+b' opens and truncates the file to 0 bytes, while\n    'r+b' opens the file without truncation. The 'x' mode implies 'w' and\n    raises an `FileExistsError` if the file already exists.\n    \n    Python distinguishes between files opened in binary and text modes,\n    even when the underlying operating system doesn't. Files opened in\n    binary mode (appending 'b' to the mode argument) return contents as\n    bytes objects without any decoding. In text mode (the default, or when\n    't' is appended to the mode argument), the contents of the file are\n    returned as strings, the bytes having been first decoded using a\n    platform-dependent encoding or using the specified encoding if given.\n    \n    'U' mode is deprecated and will raise an exception in future versions\n    of Python.  It has no effect in Python 3.  Use newline to control\n    universal newlines mode.\n    \n    buffering is an optional integer used to set the buffering policy.\n    Pass 0 to switch buffering off (only allowed in binary mode), 1 to select\n    line buffering (only usable in text mode), and an integer > 1 to indicate\n    the size of a fixed-size chunk buffer.  When no buffering argument is\n    given, the default buffering policy works as follows:\n    \n    * Binary files are buffered in fixed-size chunks; the size of the buffer\n      is chosen using a heuristic trying to determine the underlying device's\n      \"block size\" and falling back on `io.DEFAULT_BUFFER_SIZE`.\n      On many systems, the buffer will typically be 4096 or 8192 bytes long.\n    \n    * \"Interactive\" text files (files for which isatty() returns True)\n      use line buffering.  Other text files use the policy described above\n      for binary files.\n    \n    encoding is the name of the encoding used to decode or encode the\n    file. This should only be used in text mode. The default encoding is\n    platform dependent, but any encoding supported by Python can be\n    passed.  See the codecs module for the list of supported encodings.\n    \n    errors is an optional string that specifies how encoding errors are to\n    be handled---this argument should not be used in binary mode. Pass\n    'strict' to raise a ValueError exception if there is an encoding error\n    (the default of None has the same effect), or pass 'ignore' to ignore\n    errors. (Note that ignoring encoding errors can lead to data loss.)\n    See the documentation for codecs.register or run 'help(codecs.Codec)'\n    for a list of the permitted encoding error strings.\n    \n    newline controls how universal newlines works (it only applies to text\n    mode). It can be None, '', '\\n', '\\r', and '\\r\\n'.  It works as\n    follows:\n    \n    * On input, if newline is None, universal newlines mode is\n      enabled. Lines in the input can end in '\\n', '\\r', or '\\r\\n', and\n      these are translated into '\\n' before being returned to the\n      caller. If it is '', universal newline mode is enabled, but line\n      endings are returned to the caller untranslated. If it has any of\n      the other legal values, input lines are only terminated by the given\n      string, and the line ending is returned to the caller untranslated.\n    \n    * On output, if newline is None, any '\\n' characters written are\n      translated to the system default line separator, os.linesep. If\n      newline is '' or '\\n', no translation takes place. If newline is any\n      of the other legal values, any '\\n' characters written are translated\n      to the given string.\n    \n    If closefd is False, the underlying file descriptor will be kept open\n    when the file is closed. This does not work when a file name is given\n    and must be True in that case.\n    \n    A custom opener can be used by passing a callable as *opener*. The\n    underlying file descriptor for the file object is then obtained by\n    calling *opener* with (*file*, *flags*). *opener* must return an open\n    file descriptor (passing os.open as *opener* results in functionality\n    similar to passing None).\n    \n    open() returns a file object whose type depends on the mode, and\n    through which the standard file operations such as reading and writing\n    are performed. When open() is used to open a file in a text mode ('w',\n    'r', 'wt', 'rt', etc.), it returns a TextIOWrapper. When used to open\n    a file in a binary mode, the returned class varies: in read binary\n    mode, it returns a BufferedReader; in write binary and append binary\n    modes, it returns a BufferedWriter, and in read/write mode, it returns\n    a BufferedRandom.\n    \n    It is also possible to use a string or bytearray as a file for both\n    reading and writing. For strings StringIO can be used like a file\n    opened in a text mode, and for bytes a BytesIO can be used like a file\n    opened in a binary mode.\n\n"
    }
   ],
   "source": [
    "help(open)"
   ]
  },
  {
   "cell_type": "code",
   "execution_count": null,
   "metadata": {},
   "outputs": [],
   "source": [
    "# with open('file_io/brain.jpg', 'rb') as f:\n",
    "#     contents = f.read()\n",
    "\n",
    "# for x in contents[:128]:\n",
    "#     print(type(contents))\n",
    "\n",
    "# with open('file_io/brain.copy.jpg', 'wb') as f2:\n",
    "#     f2.write(contents)"
   ]
  },
  {
   "cell_type": "code",
   "execution_count": null,
   "metadata": {},
   "outputs": [],
   "source": []
  },
  {
   "cell_type": "code",
   "execution_count": null,
   "metadata": {},
   "outputs": [],
   "source": []
  }
 ],
 "metadata": {
  "language_info": {
   "codemirror_mode": {
    "name": "ipython",
    "version": 3
   },
   "file_extension": ".py",
   "mimetype": "text/x-python",
   "name": "python",
   "nbconvert_exporter": "python",
   "pygments_lexer": "ipython3",
   "version": "3.8.2-final"
  },
  "orig_nbformat": 2,
  "kernelspec": {
   "name": "python38264bitvenvvenv6b6df0291d804f989139a74c923d16a1",
   "display_name": "Python 3.8.2 64-bit ('.venv': venv)"
  }
 },
 "nbformat": 4,
 "nbformat_minor": 2
}